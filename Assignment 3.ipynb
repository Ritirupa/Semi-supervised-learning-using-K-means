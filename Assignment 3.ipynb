{
 "cells": [
  {
   "cell_type": "markdown",
   "id": "cb844df2",
   "metadata": {},
   "source": [
    "# Assignment 3\n",
    "### Ritirupa Dey(MDS202136)\n",
    "### Shramana Guin(MDS202143)"
   ]
  },
  {
   "cell_type": "markdown",
   "id": "3f26ea66",
   "metadata": {},
   "source": [
    "## Loading necessary libraries"
   ]
  },
  {
   "cell_type": "code",
   "execution_count": 1,
   "id": "1a61d9be",
   "metadata": {},
   "outputs": [],
   "source": [
    "%load_ext memory_profiler"
   ]
  },
  {
   "cell_type": "code",
   "execution_count": 2,
   "id": "4703d9cf",
   "metadata": {},
   "outputs": [],
   "source": [
    "import numpy as np\n",
    "import matplotlib as mpl\n",
    "import matplotlib.pyplot as plt\n",
    "from sklearn.linear_model import LogisticRegression\n",
    "from sklearn.cluster import KMeans\n",
    "from sklearn.pipeline import Pipeline\n",
    "%matplotlib inline\n",
    "mpl.rc('axes', labelsize=14)\n",
    "mpl.rc('xtick', labelsize=12)\n",
    "mpl.rc('ytick', labelsize=12)\n",
    "import warnings\n",
    "warnings.filterwarnings('ignore')\n",
    "\n",
    "np.random.seed(42)\n",
    "\n",
    "import time"
   ]
  },
  {
   "cell_type": "markdown",
   "id": "7e77eb8d",
   "metadata": {},
   "source": [
    "# Loading and Preprocessing Data"
   ]
  },
  {
   "cell_type": "markdown",
   "id": "9f93783c",
   "metadata": {},
   "source": [
    "## Splitting into train-test sets"
   ]
  },
  {
   "cell_type": "code",
   "execution_count": 3,
   "id": "7e80db19",
   "metadata": {},
   "outputs": [],
   "source": [
    "fashion_mnist = keras.datasets.fashion_mnist\n",
    "(X_train, y_train), (X_test, y_test) = fashion_mnist.load_data()\n",
    "class_names=['T-shirt/top','Trouser','Pullover','Dress','Coat','Sandal','Shirt',\n",
    "            'Sneaker','Bag','Ankle Boot']"
   ]
  },
  {
   "cell_type": "markdown",
   "id": "646efad7",
   "metadata": {},
   "source": [
    "## Normalizing"
   ]
  },
  {
   "cell_type": "code",
   "execution_count": 4,
   "id": "541d3924",
   "metadata": {},
   "outputs": [],
   "source": [
    "X_train=X_train/255.00\n",
    "X_test = X_test / 255.00"
   ]
  },
  {
   "cell_type": "code",
   "execution_count": 5,
   "id": "17b3d27b",
   "metadata": {},
   "outputs": [
    {
     "data": {
      "text/plain": [
       "((10000, 28, 28), (60000, 28, 28), (10000,), (60000,))"
      ]
     },
     "execution_count": 5,
     "metadata": {},
     "output_type": "execute_result"
    }
   ],
   "source": [
    "X_test.shape, X_train.shape, y_test.shape, y_train.shape"
   ]
  },
  {
   "cell_type": "markdown",
   "id": "561936d5",
   "metadata": {},
   "source": [
    "## Viewing a random image"
   ]
  },
  {
   "cell_type": "code",
   "execution_count": 6,
   "id": "080badc1",
   "metadata": {},
   "outputs": [
    {
     "data": {
      "image/png": "[encoded data removed]",
      "text/plain": [
       "<Figure size 432x288 with 1 Axes>"
      ]
     },
     "metadata": {
      "needs_background": "light"
     },
     "output_type": "display_data"
    }
   ],
   "source": [
    "np.random.seed(42)\n",
    "plt.imshow(X_train[np.random.randint(0,55000)], cmap=\"binary\")\n",
    "plt.axis('off')\n",
    "plt.show()"
   ]
  },
  {
   "cell_type": "markdown",
   "id": "ef256cc4",
   "metadata": {},
   "source": [
    "## Unfolding the images into vectors"
   ]
  },
  {
   "cell_type": "code",
   "execution_count": 7,
   "id": "8b0db9b6",
   "metadata": {},
   "outputs": [],
   "source": [
    "X_train_2d = X_train.reshape(X_train.shape[0],-1)         #Converting 28*28 image arrays to 784-D vectors\n",
    "X_test_2d = X_test.reshape(X_test.shape[0],-1)     #Converting 28*28 image arrays to 784-D vectors"
   ]
  },
  {
   "cell_type": "markdown",
   "id": "09df708c",
   "metadata": {},
   "source": [
    "# -------------------------------------------------------------------------------------------------------------"
   ]
  },
  {
   "cell_type": "markdown",
   "id": "33e1d94e",
   "metadata": {},
   "source": [
    "# Performing Logistic Regression on the entire training set"
   ]
  },
  {
   "cell_type": "code",
   "execution_count": 8,
   "id": "2dc2625a",
   "metadata": {},
   "outputs": [
    {
     "name": "stdout",
     "output_type": "stream",
     "text": [
      "peak memory: 825.91 MiB, increment: 69.91 MiB\n",
      "Wall time: 46min 11s\n"
     ]
    }
   ],
   "source": [
    "%%time\n",
    "%%memit\n",
    "log_reg1 = LogisticRegression(multi_class=\"ovr\", solver=\"saga\", max_iter=2500, random_state=42)\n",
    "log_reg1.fit(X_train_2d, y_train)"
   ]
  },
  {
   "cell_type": "code",
   "execution_count": 9,
   "id": "01e358ff",
   "metadata": {},
   "outputs": [
    {
     "name": "stdout",
     "output_type": "stream",
     "text": [
      "84.1 %\n"
     ]
    }
   ],
   "source": [
    "print(log_reg1.score(X_test_2d, y_test)*100,\"%\")"
   ]
  },
  {
   "cell_type": "markdown",
   "id": "aa65c8e2",
   "metadata": {},
   "source": [
    "# Performing clustering using K-Means followed by Logistic Regression on the entire training set"
   ]
  },
  {
   "cell_type": "code",
   "execution_count": 10,
   "id": "d11251f9",
   "metadata": {},
   "outputs": [
    {
     "name": "stdout",
     "output_type": "stream",
     "text": [
      "Cluster= 100, Accuracy= 0.8257\n",
      "Cluster= 200, Accuracy= 0.8364\n",
      "Cluster= 300, Accuracy= 0.8446\n",
      "peak memory: 1523.45 MiB, increment: 699.75 MiB\n",
      "Wall time: 2h 50min 6s\n"
     ]
    }
   ],
   "source": [
    "%%time\n",
    "%%memit\n",
    "k=[100,200,300]\n",
    "pipeline=np.empty(len(k),dtype=object)\n",
    "for i in range(len(k)):\n",
    "    pipeline[i] = Pipeline([(\"kmeans\", KMeans(init='k-means++',n_clusters=k[i], random_state=42)),\n",
    "                         (\"log_reg\", LogisticRegression(multi_class=\"ovr\", solver=\"saga\",\n",
    "                                                        max_iter=2500, random_state=42))])\n",
    "    pipeline[i].fit(X_train_2d, y_train)\n",
    "    print('Cluster= {}, Accuracy= {}'.format(k[i],\n",
    "            pipeline[i].score(X_test_2d,y_test)))"
   ]
  },
  {
   "cell_type": "markdown",
   "id": "d4ce7c42",
   "metadata": {},
   "source": [
    "# --------------------------------------------------------------------------------------------------------------"
   ]
  },
  {
   "cell_type": "markdown",
   "id": "6a6a353b",
   "metadata": {},
   "source": [
    "# Performing Logistic Regression on Random Labelled Instances"
   ]
  },
  {
   "cell_type": "code",
   "execution_count": 11,
   "id": "3b6877a9",
   "metadata": {},
   "outputs": [
    {
     "name": "stdout",
     "output_type": "stream",
     "text": [
      "Labelled Instance= 500, Accuracy= 78.52\n",
      "Labelled Instance= 1000, Accuracy= 79.24\n",
      "Labelled Instance= 2000, Accuracy= 80.89\n",
      "peak memory: 732.54 MiB, increment: 0.69 MiB\n",
      "Wall time: 23.6 s\n"
     ]
    }
   ],
   "source": [
    "%%time\n",
    "%%memit\n",
    "k=[500,1000,2000]\n",
    "log_reg2=np.empty(len(k),dtype=object)\n",
    "for i in range(len(k)):\n",
    "    log_reg2[i] = LogisticRegression(multi_class=\"ovr\", solver=\"saga\", random_state=42)\n",
    "    log_reg2[i].fit(X_train_2d[:k[i]], y_train[:k[i]])\n",
    "    print('Labelled Instance= {}, Accuracy= {}'.format(k[i],\n",
    "            log_reg2[i].score(X_test_2d,y_test)*100,\"%\"))"
   ]
  },
  {
   "cell_type": "markdown",
   "id": "126d0045",
   "metadata": {},
   "source": [
    "# ---------------------------------------------------------------------------------------------------------------"
   ]
  },
  {
   "cell_type": "markdown",
   "id": "c3664de2",
   "metadata": {},
   "source": [
    "# Performing K-Means(K=2000) on the training set and choosing representative data points from each cluster"
   ]
  },
  {
   "cell_type": "code",
   "execution_count": 12,
   "id": "a2caf051",
   "metadata": {},
   "outputs": [
    {
     "name": "stdout",
     "output_type": "stream",
     "text": [
      "peak memory: 2337.62 MiB, increment: 1605.03 MiB\n",
      "Wall time: 16min 11s\n"
     ]
    }
   ],
   "source": [
    "%%time\n",
    "%%memit\n",
    "kmeans1 = KMeans(init='k-means++',n_clusters=2000, random_state=42)\n",
    "X_items_dist = kmeans1.fit_transform(X_train_2d)\n",
    "representative_items_idx = np.argmin(X_items_dist, axis=0)\n",
    "X_representative_items = X_train_2d[representative_items_idx]\n",
    "y_representative_items = np.squeeze(y_train[representative_items_idx]).astype('int32')"
   ]
  },
  {
   "cell_type": "code",
   "execution_count": 13,
   "id": "9e8c9210",
   "metadata": {},
   "outputs": [
    {
     "name": "stdout",
     "output_type": "stream",
     "text": [
      "['Ankle Boot' 'T-shirt/top' 'T-shirt/top' ... 'Bag' 'Trouser' 'Ankle Boot']\n"
     ]
    }
   ],
   "source": [
    "y_representative_items = np.squeeze(y_train[representative_items_idx]).astype('int32')\n",
    "print(np.array(class_names)[y_representative_items])"
   ]
  },
  {
   "cell_type": "markdown",
   "id": "b25f0347",
   "metadata": {},
   "source": [
    "# Fitting logistic regression on the representative instances"
   ]
  },
  {
   "cell_type": "code",
   "execution_count": 14,
   "id": "353b6a86",
   "metadata": {},
   "outputs": [
    {
     "name": "stdout",
     "output_type": "stream",
     "text": [
      "Accuracy=  81.64 %\n",
      "peak memory: 1677.36 MiB, increment: 60.70 MiB\n",
      "Wall time: 1min 32s\n"
     ]
    }
   ],
   "source": [
    "%%time\n",
    "%%memit\n",
    "log_reg3 = LogisticRegression(multi_class=\"ovr\", solver=\"saga\", max_iter=2500, random_state=42)\n",
    "log_reg3.fit(X_representative_items, y_representative_items)\n",
    "print('Accuracy= ',log_reg3.score(X_test_2d, y_test)*100,\"%\")"
   ]
  },
  {
   "cell_type": "markdown",
   "id": "32cd7185",
   "metadata": {},
   "source": [
    "# ---------------------------------------------------------------------------------------------------------------"
   ]
  },
  {
   "cell_type": "markdown",
   "id": "5d329f42",
   "metadata": {},
   "source": [
    "# Clustering and Propagating Labels to each Data Point"
   ]
  },
  {
   "cell_type": "code",
   "execution_count": 15,
   "id": "643f1731",
   "metadata": {},
   "outputs": [],
   "source": [
    "y_train_propagated = np.empty(len(X_train_2d), dtype=np.int32)\n",
    "for i in range(2000):\n",
    "    y_train_propagated[kmeans1.labels_==i] = y_representative_items[i]"
   ]
  },
  {
   "cell_type": "markdown",
   "id": "5117ec73",
   "metadata": {},
   "source": [
    "## Fitting Logistic Regression to the entire training set with the propagated labels"
   ]
  },
  {
   "cell_type": "code",
   "execution_count": 16,
   "id": "5690bebb",
   "metadata": {},
   "outputs": [
    {
     "name": "stdout",
     "output_type": "stream",
     "text": [
      "81.23 %\n",
      "peak memory: 1685.56 MiB, increment: 7.98 MiB\n",
      "Wall time: 47min 8s\n"
     ]
    }
   ],
   "source": [
    "%%time\n",
    "%%memit\n",
    "log_reg4 = LogisticRegression(multi_class=\"ovr\", solver=\"saga\", max_iter=2500, random_state=42)\n",
    "log_reg4.fit(X_train_2d, y_train_propagated)\n",
    "print(log_reg4.score(X_test_2d,y_test)*100,\"%\")"
   ]
  },
  {
   "cell_type": "markdown",
   "id": "927b9d9c",
   "metadata": {},
   "source": [
    "# ---------------------------------------------------------------------------------------------------------------"
   ]
  },
  {
   "cell_type": "markdown",
   "id": "b19f0da9",
   "metadata": {},
   "source": [
    "# Clustering and Propagating Labels to Data Points Closer to Cluster Centroids"
   ]
  },
  {
   "cell_type": "code",
   "execution_count": 29,
   "id": "ed2bc9e9",
   "metadata": {},
   "outputs": [
    {
     "name": "stdout",
     "output_type": "stream",
     "text": [
      "peak memory: 1087.23 MiB, increment: 0.07 MiB\n",
      "Wall time: 1.01 s\n"
     ]
    }
   ],
   "source": [
    "%%time\n",
    "%%memit\n",
    "percentile_closest = 20\n",
    "\n",
    "X_cluster_dist = X_items_dist[np.arange(len(X_train_2d)), kmeans1.labels_]\n",
    "for i in range(2000):\n",
    "    in_cluster = (kmeans1.labels_ == i)\n",
    "    cluster_dist = X_cluster_dist[in_cluster]\n",
    "    cutoff_distance = np.percentile(cluster_dist, percentile_closest)\n",
    "    above_cutoff = (X_cluster_dist > cutoff_distance)\n",
    "    X_cluster_dist[in_cluster & above_cutoff] = -1"
   ]
  },
  {
   "cell_type": "code",
   "execution_count": 30,
   "id": "1d94c50f",
   "metadata": {},
   "outputs": [],
   "source": [
    "partially_propagated = (X_cluster_dist != -1)\n",
    "X_train_partially_propagated = X_train_2d[partially_propagated]\n",
    "y_train_partially_propagated = y_train_propagated[partially_propagated]"
   ]
  },
  {
   "cell_type": "markdown",
   "id": "4f1e610a",
   "metadata": {},
   "source": [
    "## Fitting Logistic Regression to only the partially propagated labels"
   ]
  },
  {
   "cell_type": "code",
   "execution_count": 31,
   "id": "183de023",
   "metadata": {},
   "outputs": [
    {
     "name": "stdout",
     "output_type": "stream",
     "text": [
      "80.42 %\n",
      "peak memory: 981.45 MiB, increment: 0.03 MiB\n",
      "Wall time: 8min 51s\n"
     ]
    }
   ],
   "source": [
    "%%time\n",
    "%%memit\n",
    "log_reg5 = LogisticRegression(multi_class=\"ovr\", solver=\"saga\", max_iter=2500, random_state=42)\n",
    "log_reg5.fit(X_train_partially_propagated, y_train_partially_propagated)\n",
    "print(log_reg5.score(X_test_2d,y_test)*100,\"%\")"
   ]
  },
  {
   "cell_type": "markdown",
   "id": "a0f1c3cf",
   "metadata": {},
   "source": [
    "# ---------------------------------------------------------------------------------------------------------------"
   ]
  }
 ],
 "metadata": {
  "kernelspec": {
   "display_name": "Python 3 (ipykernel)",
   "language": "python",
   "name": "python3"
  },
  "language_info": {
   "codemirror_mode": {
    "name": "ipython",
    "version": 3
   },
   "file_extension": ".py",
   "mimetype": "text/x-python",
   "name": "python",
   "nbconvert_exporter": "python",
   "pygments_lexer": "ipython3",
   "version": "3.9.12"
  }
 },
 "nbformat": 4,
 "nbformat_minor": 5
}
